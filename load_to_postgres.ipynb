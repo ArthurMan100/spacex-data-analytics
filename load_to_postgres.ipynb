{
 "cells": [
  {
   "cell_type": "code",
   "execution_count": null,
   "id": "dbf67036",
   "metadata": {},
   "outputs": [
    {
     "name": "stdout",
     "output_type": "stream",
     "text": [
      "✅ Data loaded into PostgreSQL table 'api_faclon9_launches'\n"
     ]
    }
   ],
   "source": [
    "import pandas as pd\n",
    "from sqlalchemy import create_engine\n",
    "from dotenv import load_dotenv\n",
    "import os\n",
    "\n",
    "load_dotenv() \n",
    "\n",
    "# === Step 1: Load CSV into DataFrame ===\n",
    "csv_path = '../clean_data/dataset_part_2.csv'  # Make sure file is here or update path\n",
    "df = pd.read_csv(csv_path)\n",
    "df.columns = [col.strip().replace(\" \", \"_\").replace(\"/\", \"_\") for col in df.columns]  # clean column names\n",
    "\n",
    "# === Step 2: Create SQLAlchemy engine to your existing Postgres DB ===\n",
    "# Replace these with your credentials\n",
    "PG_USER = 'postgres'\n",
    "PG_PASSWORD = os.getenv(\"postgres_password\") #your PG Password\n",
    "PG_HOST = 'localhost'\n",
    "PG_PORT = os.getenv(\"postgres_port\")\n",
    "PG_DBNAME = 'spacex'  # Must already exist in Postgres!\n",
    "\n",
    "engine = create_engine(f'postgresql://{PG_USER}:{PG_PASSWORD}@{PG_HOST}:{PG_PORT}/{PG_DBNAME}')\n",
    "\n",
    "# === Step 3: Write DataFrame to Postgres (new table) ===\n",
    "TABLE_NAME = 'api_faclon9_launches'\n",
    "\n",
    "# if_exists='replace' will drop the table if it exists and create a new one\n",
    "df.to_sql(TABLE_NAME, engine, if_exists='replace', index=False)\n",
    "\n",
    "print(f\"✅ Data loaded into PostgreSQL table '{TABLE_NAME}'\")\n"
   ]
  }
 ],
 "metadata": {
  "kernelspec": {
   "display_name": "base",
   "language": "python",
   "name": "python3"
  },
  "language_info": {
   "codemirror_mode": {
    "name": "ipython",
    "version": 3
   },
   "file_extension": ".py",
   "mimetype": "text/x-python",
   "name": "python",
   "nbconvert_exporter": "python",
   "pygments_lexer": "ipython3",
   "version": "3.11.5"
  }
 },
 "nbformat": 4,
 "nbformat_minor": 5
}
